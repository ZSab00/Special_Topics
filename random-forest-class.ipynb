{
 "cells": [
  {
   "cell_type": "markdown",
   "id": "371e7e8c",
   "metadata": {},
   "source": [
    "### Random Forest Classification\n",
    "This program dates a CSV file as input and attempts to classify it using a random forest algorithm."
   ]
  },
  {
   "cell_type": "markdown",
   "id": "55130c67",
   "metadata": {},
   "source": [
    "#### Results #1, No Hyperparameters (ended up being the same with optimized parameters)\n",
    "Overall Results\n",
    "Train acc:  1.0\n",
    "Test acc:  0.985"
   ]
  },
  {
   "cell_type": "code",
   "execution_count": 88,
   "id": "015aa50c",
   "metadata": {},
   "outputs": [],
   "source": [
    "import pandas as pd\n",
    "import numpy as np\n",
    "\n",
    "from sklearn.ensemble import RandomForestClassifier\n",
    "from sklearn.linear_model import LogisticRegression\n",
    "from sklearn.naive_bayes import GaussianNB\n",
    "\n",
    "from sklearn.model_selection import train_test_split, GridSearchCV\n",
    "from sklearn.metrics import confusion_matrix, accuracy_score\n",
    "\n",
    "import statistics\n",
    "from statistics import mode"
   ]
  },
  {
   "cell_type": "code",
   "execution_count": 89,
   "id": "d957fefc",
   "metadata": {},
   "outputs": [
    {
     "data": {
      "text/html": [
       "<div>\n",
       "<style scoped>\n",
       "    .dataframe tbody tr th:only-of-type {\n",
       "        vertical-align: middle;\n",
       "    }\n",
       "\n",
       "    .dataframe tbody tr th {\n",
       "        vertical-align: top;\n",
       "    }\n",
       "\n",
       "    .dataframe thead th {\n",
       "        text-align: right;\n",
       "    }\n",
       "</style>\n",
       "<table border=\"1\" class=\"dataframe\">\n",
       "  <thead>\n",
       "    <tr style=\"text-align: right;\">\n",
       "      <th></th>\n",
       "      <th>age</th>\n",
       "      <th>sex</th>\n",
       "      <th>cp</th>\n",
       "      <th>trestbps</th>\n",
       "      <th>chol</th>\n",
       "      <th>fbs</th>\n",
       "      <th>restecg</th>\n",
       "      <th>thalach</th>\n",
       "      <th>exang</th>\n",
       "      <th>oldpeak</th>\n",
       "      <th>slope</th>\n",
       "      <th>ca</th>\n",
       "      <th>thal</th>\n",
       "      <th>target</th>\n",
       "    </tr>\n",
       "  </thead>\n",
       "  <tbody>\n",
       "    <tr>\n",
       "      <th>0</th>\n",
       "      <td>52</td>\n",
       "      <td>1</td>\n",
       "      <td>0</td>\n",
       "      <td>125</td>\n",
       "      <td>212</td>\n",
       "      <td>0</td>\n",
       "      <td>1</td>\n",
       "      <td>168</td>\n",
       "      <td>0</td>\n",
       "      <td>1.0</td>\n",
       "      <td>2</td>\n",
       "      <td>2</td>\n",
       "      <td>3</td>\n",
       "      <td>0</td>\n",
       "    </tr>\n",
       "    <tr>\n",
       "      <th>1</th>\n",
       "      <td>53</td>\n",
       "      <td>1</td>\n",
       "      <td>0</td>\n",
       "      <td>140</td>\n",
       "      <td>203</td>\n",
       "      <td>1</td>\n",
       "      <td>0</td>\n",
       "      <td>155</td>\n",
       "      <td>1</td>\n",
       "      <td>3.1</td>\n",
       "      <td>0</td>\n",
       "      <td>0</td>\n",
       "      <td>3</td>\n",
       "      <td>0</td>\n",
       "    </tr>\n",
       "    <tr>\n",
       "      <th>2</th>\n",
       "      <td>70</td>\n",
       "      <td>1</td>\n",
       "      <td>0</td>\n",
       "      <td>145</td>\n",
       "      <td>174</td>\n",
       "      <td>0</td>\n",
       "      <td>1</td>\n",
       "      <td>125</td>\n",
       "      <td>1</td>\n",
       "      <td>2.6</td>\n",
       "      <td>0</td>\n",
       "      <td>0</td>\n",
       "      <td>3</td>\n",
       "      <td>0</td>\n",
       "    </tr>\n",
       "    <tr>\n",
       "      <th>3</th>\n",
       "      <td>61</td>\n",
       "      <td>1</td>\n",
       "      <td>0</td>\n",
       "      <td>148</td>\n",
       "      <td>203</td>\n",
       "      <td>0</td>\n",
       "      <td>1</td>\n",
       "      <td>161</td>\n",
       "      <td>0</td>\n",
       "      <td>0.0</td>\n",
       "      <td>2</td>\n",
       "      <td>1</td>\n",
       "      <td>3</td>\n",
       "      <td>0</td>\n",
       "    </tr>\n",
       "    <tr>\n",
       "      <th>4</th>\n",
       "      <td>62</td>\n",
       "      <td>0</td>\n",
       "      <td>0</td>\n",
       "      <td>138</td>\n",
       "      <td>294</td>\n",
       "      <td>1</td>\n",
       "      <td>1</td>\n",
       "      <td>106</td>\n",
       "      <td>0</td>\n",
       "      <td>1.9</td>\n",
       "      <td>1</td>\n",
       "      <td>3</td>\n",
       "      <td>2</td>\n",
       "      <td>0</td>\n",
       "    </tr>\n",
       "  </tbody>\n",
       "</table>\n",
       "</div>"
      ],
      "text/plain": [
       "   age  sex  cp  trestbps  chol  fbs  restecg  thalach  exang  oldpeak  slope  \\\n",
       "0   52    1   0       125   212    0        1      168      0      1.0      2   \n",
       "1   53    1   0       140   203    1        0      155      1      3.1      0   \n",
       "2   70    1   0       145   174    0        1      125      1      2.6      0   \n",
       "3   61    1   0       148   203    0        1      161      0      0.0      2   \n",
       "4   62    0   0       138   294    1        1      106      0      1.9      1   \n",
       "\n",
       "   ca  thal  target  \n",
       "0   2     3       0  \n",
       "1   0     3       0  \n",
       "2   0     3       0  \n",
       "3   1     3       0  \n",
       "4   3     2       0  "
      ]
     },
     "metadata": {},
     "output_type": "display_data"
    }
   ],
   "source": [
    "df = pd.read_csv('./heart.csv')\n",
    "display(df.head())"
   ]
  },
  {
   "cell_type": "code",
   "execution_count": 90,
   "id": "0862bce2",
   "metadata": {
    "scrolled": true
   },
   "outputs": [
    {
     "name": "stdout",
     "output_type": "stream",
     "text": [
      "(820, 12) (820,) (205, 12) (205,)\n"
     ]
    },
    {
     "data": {
      "text/html": [
       "<div>\n",
       "<style scoped>\n",
       "    .dataframe tbody tr th:only-of-type {\n",
       "        vertical-align: middle;\n",
       "    }\n",
       "\n",
       "    .dataframe tbody tr th {\n",
       "        vertical-align: top;\n",
       "    }\n",
       "\n",
       "    .dataframe thead th {\n",
       "        text-align: right;\n",
       "    }\n",
       "</style>\n",
       "<table border=\"1\" class=\"dataframe\">\n",
       "  <thead>\n",
       "    <tr style=\"text-align: right;\">\n",
       "      <th></th>\n",
       "      <th>age</th>\n",
       "      <th>sex</th>\n",
       "      <th>cp</th>\n",
       "      <th>trestbps</th>\n",
       "      <th>chol</th>\n",
       "      <th>fbs</th>\n",
       "      <th>restecg</th>\n",
       "      <th>thalach</th>\n",
       "      <th>exang</th>\n",
       "      <th>oldpeak</th>\n",
       "      <th>slope</th>\n",
       "      <th>ca</th>\n",
       "    </tr>\n",
       "  </thead>\n",
       "  <tbody>\n",
       "    <tr>\n",
       "      <th>315</th>\n",
       "      <td>42</td>\n",
       "      <td>1</td>\n",
       "      <td>3</td>\n",
       "      <td>148</td>\n",
       "      <td>244</td>\n",
       "      <td>0</td>\n",
       "      <td>0</td>\n",
       "      <td>178</td>\n",
       "      <td>0</td>\n",
       "      <td>0.8</td>\n",
       "      <td>2</td>\n",
       "      <td>2</td>\n",
       "    </tr>\n",
       "    <tr>\n",
       "      <th>204</th>\n",
       "      <td>66</td>\n",
       "      <td>0</td>\n",
       "      <td>2</td>\n",
       "      <td>146</td>\n",
       "      <td>278</td>\n",
       "      <td>0</td>\n",
       "      <td>0</td>\n",
       "      <td>152</td>\n",
       "      <td>0</td>\n",
       "      <td>0.0</td>\n",
       "      <td>1</td>\n",
       "      <td>1</td>\n",
       "    </tr>\n",
       "    <tr>\n",
       "      <th>363</th>\n",
       "      <td>53</td>\n",
       "      <td>1</td>\n",
       "      <td>2</td>\n",
       "      <td>130</td>\n",
       "      <td>246</td>\n",
       "      <td>1</td>\n",
       "      <td>0</td>\n",
       "      <td>173</td>\n",
       "      <td>0</td>\n",
       "      <td>0.0</td>\n",
       "      <td>2</td>\n",
       "      <td>3</td>\n",
       "    </tr>\n",
       "    <tr>\n",
       "      <th>5</th>\n",
       "      <td>58</td>\n",
       "      <td>0</td>\n",
       "      <td>0</td>\n",
       "      <td>100</td>\n",
       "      <td>248</td>\n",
       "      <td>0</td>\n",
       "      <td>0</td>\n",
       "      <td>122</td>\n",
       "      <td>0</td>\n",
       "      <td>1.0</td>\n",
       "      <td>1</td>\n",
       "      <td>0</td>\n",
       "    </tr>\n",
       "    <tr>\n",
       "      <th>1017</th>\n",
       "      <td>53</td>\n",
       "      <td>1</td>\n",
       "      <td>0</td>\n",
       "      <td>123</td>\n",
       "      <td>282</td>\n",
       "      <td>0</td>\n",
       "      <td>1</td>\n",
       "      <td>95</td>\n",
       "      <td>1</td>\n",
       "      <td>2.0</td>\n",
       "      <td>1</td>\n",
       "      <td>2</td>\n",
       "    </tr>\n",
       "  </tbody>\n",
       "</table>\n",
       "</div>"
      ],
      "text/plain": [
       "      age  sex  cp  trestbps  chol  fbs  restecg  thalach  exang  oldpeak  \\\n",
       "315    42    1   3       148   244    0        0      178      0      0.8   \n",
       "204    66    0   2       146   278    0        0      152      0      0.0   \n",
       "363    53    1   2       130   246    1        0      173      0      0.0   \n",
       "5      58    0   0       100   248    0        0      122      0      1.0   \n",
       "1017   53    1   0       123   282    0        1       95      1      2.0   \n",
       "\n",
       "      slope  ca  \n",
       "315       2   2  \n",
       "204       1   1  \n",
       "363       2   3  \n",
       "5         1   0  \n",
       "1017      1   2  "
      ]
     },
     "metadata": {},
     "output_type": "display_data"
    },
    {
     "data": {
      "text/plain": [
       "315     2\n",
       "204     2\n",
       "363     2\n",
       "5       2\n",
       "1017    3\n",
       "Name: thal, dtype: int64"
      ]
     },
     "metadata": {},
     "output_type": "display_data"
    }
   ],
   "source": [
    "# Split data into features and target\n",
    "y = df['thal']\n",
    "x = df.drop(['target', 'thal'], axis=1)\n",
    "\n",
    "# Get test and train split\n",
    "xtrain, xtest, ytrain, ytest = train_test_split(x, y, test_size=0.2, random_state=0)\n",
    "\n",
    "print(xtrain.shape, ytrain.shape, xtest.shape, ytest.shape)\n",
    "display(xtrain.head())\n",
    "display(ytrain.head())"
   ]
  },
  {
   "cell_type": "code",
   "execution_count": 91,
   "id": "aac8b6b8",
   "metadata": {},
   "outputs": [
    {
     "name": "stdout",
     "output_type": "stream",
     "text": [
      "Accuracy of RandomForestClassifier:  94.15 %\n"
     ]
    }
   ],
   "source": [
    "# Create random forest\n",
    "rf = RandomForestClassifier(n_estimators=20, max_depth=7)\n",
    "rf.fit(xtrain, ytrain)\n",
    "\n",
    "# Get rf prediction\n",
    "rf_predicted = rf.predict(xtest)\n",
    "rf_acc = np.round(100*accuracy_score(ytest, rf_predicted), 2)\n",
    "print(\"Accuracy of RandomForestClassifier: \", rf_acc, '%')"
   ]
  },
  {
   "cell_type": "code",
   "execution_count": 92,
   "id": "e442f3ac",
   "metadata": {},
   "outputs": [
    {
     "name": "stdout",
     "output_type": "stream",
     "text": [
      "Accuracy of LogisticRegression Model:  74.15 %\n"
     ]
    }
   ],
   "source": [
    "# Create linear regression model\n",
    "lr = LogisticRegression(max_iter=10000)\n",
    "lr = lr.fit(xtrain, ytrain) \n",
    "\n",
    "# Get the prediction\n",
    "lr_predicted = lr.predict(xtest)\n",
    "lr_acc = np.round(100*accuracy_score(ytest, lr_predicted), 2)\n",
    "print(\"Accuracy of LogisticRegression Model: \", lr_acc, '%')"
   ]
  },
  {
   "cell_type": "code",
   "execution_count": 93,
   "id": "2ca4150d",
   "metadata": {},
   "outputs": [
    {
     "name": "stdout",
     "output_type": "stream",
     "text": [
      "Accuracy of GaussianNB Model:  69.27 %\n"
     ]
    }
   ],
   "source": [
    "# Create a gaussian model\n",
    "gaus = GaussianNB()\n",
    "gaus.fit(xtrain, ytrain)\n",
    "\n",
    "# Get the prediction\n",
    "gaus_predicted = gaus.predict(xtest)\n",
    "gaus_acc = np.round(100*accuracy_score(ytest, gaus_predicted), 2)\n",
    "print(\"Accuracy of GaussianNB Model: \", gaus_acc, '%')"
   ]
  },
  {
   "cell_type": "code",
   "execution_count": 94,
   "id": "462b360b",
   "metadata": {},
   "outputs": [],
   "source": [
    "# Combines arrays into a array of tuples, useful for voting\n",
    "# combine_arrs([1, 2, 3], [4, 5, 6], [7, 8, 9]) ==> [(1, 4, 7), (2, 5, 8), (3, 6, 9)]\n",
    "def combine_arrs(*args):\n",
    "    arr_of_tuples = []\n",
    "    for i in range(len(args[0])):\n",
    "        arr_of_tuples.append(tuple([x[i] for x in args]))\n",
    "    return arr_of_tuples\n",
    "\n",
    "# Returns array of most common vote amongst the models\n",
    "def ensemble_vote(votes_arr):\n",
    "    conclusion = []\n",
    "    for votes in votes_arr:\n",
    "        conclusion.append(mode(votes))\n",
    "    return conclusion"
   ]
  },
  {
   "cell_type": "code",
   "execution_count": 95,
   "id": "973b55fb",
   "metadata": {},
   "outputs": [
    {
     "name": "stdout",
     "output_type": "stream",
     "text": [
      "[(2, 2, 2), (2, 2, 2), (3, 3, 3), (2, 2, 2), (3, 3, 3)]\n"
     ]
    }
   ],
   "source": [
    "# Combines individual voting arrays into a single array of tuples, \n",
    "# where the ith tuple contains the guesses for the ith entry in xtest\n",
    "ensemble_arr = combine_arrs(rf_predicted, lr_predicted, gaus_predicted)\n",
    "print(ensemble_arr[:5])"
   ]
  },
  {
   "cell_type": "code",
   "execution_count": 96,
   "id": "536b8e56",
   "metadata": {},
   "outputs": [
    {
     "name": "stdout",
     "output_type": "stream",
     "text": [
      "[2, 2, 3, 2, 3]\n"
     ]
    }
   ],
   "source": [
    "# Determines the most common vote\n",
    "res_from_vote = ensemble_vote(ensemble_arr)\n",
    "acc_from_vote = np.round(100 * accuracy_score(ytest, res_from_vote), 2)\n",
    "print(res_from_vote[:5])"
   ]
  },
  {
   "cell_type": "code",
   "execution_count": 97,
   "id": "0281e246",
   "metadata": {},
   "outputs": [
    {
     "name": "stdout",
     "output_type": "stream",
     "text": [
      "Accuracy of RandomForestClassifier:  94.15 %\n",
      "Accuracy of LogisticRegression Model:  74.15 %\n",
      "Accuracy of GaussianNB Model:  69.27 %\n",
      "Accuracy after ensemble voting:  78.54 %\n"
     ]
    }
   ],
   "source": [
    "print(\"Accuracy of RandomForestClassifier: \", rf_acc, '%')\n",
    "print(\"Accuracy of LogisticRegression Model: \", lr_acc, '%')\n",
    "print(\"Accuracy of GaussianNB Model: \", gaus_acc, '%')\n",
    "print(\"Accuracy after ensemble voting: \", acc_from_vote, '%')"
   ]
  }
 ],
 "metadata": {
  "kernelspec": {
   "display_name": "Python 3 (ipykernel)",
   "language": "python",
   "name": "python3"
  },
  "language_info": {
   "codemirror_mode": {
    "name": "ipython",
    "version": 3
   },
   "file_extension": ".py",
   "mimetype": "text/x-python",
   "name": "python",
   "nbconvert_exporter": "python",
   "pygments_lexer": "ipython3",
   "version": "3.8.12"
  }
 },
 "nbformat": 4,
 "nbformat_minor": 5
}
